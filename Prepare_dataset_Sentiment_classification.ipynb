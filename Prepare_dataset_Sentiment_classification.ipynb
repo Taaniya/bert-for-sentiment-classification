{
  "nbformat": 4,
  "nbformat_minor": 0,
  "metadata": {
    "colab": {
      "name": "Prepare_dataset_Sentiment_classification",
      "provenance": [],
      "collapsed_sections": []
    },
    "kernelspec": {
      "name": "python3",
      "display_name": "Python 3"
    }
  },
  "cells": [
    {
      "cell_type": "markdown",
      "metadata": {
        "id": "JhNJ3t4JFVcy"
      },
      "source": [
        "This notebook scapes app reviews from Google play store and persists training, validation & test dataset for fine-tuning BERT model for sentiment classification using user app ratings."
      ]
    },
    {
      "cell_type": "code",
      "metadata": {
        "id": "Bhzw2jswJjNR",
        "outputId": "107d20ab-647e-49e1-c94a-e99710740ca7",
        "colab": {
          "base_uri": "https://localhost:8080/",
          "height": 207
        }
      },
      "source": [
        "! pip install google_play_scraper"
      ],
      "execution_count": 1,
      "outputs": [
        {
          "output_type": "stream",
          "text": [
            "Collecting google_play_scraper\n",
            "\u001b[?25l  Downloading https://files.pythonhosted.org/packages/29/b5/560ff4472c33285b91af435815c7e9cff4c2acc01620fd0f80a59d71e345/google-play-scraper-0.1.1.tar.gz (49kB)\n",
            "\u001b[K     |████████████████████████████████| 51kB 1.6MB/s \n",
            "\u001b[?25hBuilding wheels for collected packages: google-play-scraper\n",
            "  Building wheel for google-play-scraper (setup.py) ... \u001b[?25l\u001b[?25hdone\n",
            "  Created wheel for google-play-scraper: filename=google_play_scraper-0.1.1-cp36-none-any.whl size=22260 sha256=8be37ae33e673ca8419247bb4e8557db3be2834b0a19385de63ec4326a607edc\n",
            "  Stored in directory: /root/.cache/pip/wheels/d7/1f/71/e2b30aab85297ad6dd2e3049587a6763cfb7e803a0b76d982e\n",
            "Successfully built google-play-scraper\n",
            "Installing collected packages: google-play-scraper\n",
            "Successfully installed google-play-scraper-0.1.1\n"
          ],
          "name": "stdout"
        }
      ]
    },
    {
      "cell_type": "code",
      "metadata": {
        "id": "gw8IWEpBFLiA"
      },
      "source": [
        "import pandas as pd\n",
        "from sklearn.model_selection import train_test_split\n",
        "import numpy as np\n",
        "from tqdm import tqdm\n",
        "from google_play_scraper import Sort, reviews, app\n"
      ],
      "execution_count": 2,
      "outputs": []
    },
    {
      "cell_type": "code",
      "metadata": {
        "id": "IilNnwy0lRSS"
      },
      "source": [
        "from google.colab import drive\n",
        "\n",
        "drive.mount('/content/gdrive')"
      ],
      "execution_count": null,
      "outputs": []
    },
    {
      "cell_type": "markdown",
      "metadata": {
        "id": "6rIk8E9dJCou"
      },
      "source": [
        "#### Download and save app reviews data\n"
      ]
    },
    {
      "cell_type": "code",
      "metadata": {
        "id": "ZHxrKWUKHaAg"
      },
      "source": [
        "# Package name for each app\n",
        "app_packages = ['com.flipkart.android', \n",
        "                'com.ubercab',\n",
        "                'com.olacabs.customer', \n",
        "                'com.instagram.android',\n",
        "                'com.facebook.katana',\n",
        "                'com.whatsapp',\n",
        "                'com.linkedin.android',\n",
        "                'com.google.android.talk',\n",
        "                'com.applicatiom.zomato'\n",
        "                ]"
      ],
      "execution_count": null,
      "outputs": []
    },
    {
      "cell_type": "code",
      "metadata": {
        "id": "_iVci8aoQ0Rc"
      },
      "source": [
        "# To download a balanced dataset w.r.t ratings for each app\n",
        "def getReviews(num_reviews, app_packages, cols):\n",
        "  num_reviews_per_app = num_reviews\n",
        "  app_reviews = []\n",
        "  for rating in range(1,6):\n",
        "    for app_name in tqdm(app_packages):\n",
        "      rvs,_ = reviews(app_name, \n",
        "              lang='en', \n",
        "              country='in', \n",
        "              sort=Sort.MOST_RELEVANT,\n",
        "              filter_score_with=rating, \n",
        "              count=num_reviews_per_app)\n",
        "      for review in rvs:\n",
        "        review['appid'] = app_name   # adding app name to each review\n",
        "      app_reviews.extend(rvs)\n",
        "\n",
        "  # Saving reviews to CSV file\n",
        "  df = pd.DataFrame(app_reviews)\n",
        "  return df[cols]"
      ],
      "execution_count": null,
      "outputs": []
    },
    {
      "cell_type": "code",
      "metadata": {
        "id": "fgPXF3OvmuKl"
      },
      "source": [
        "cols = ['userName', 'content', 'score', 'appid']"
      ],
      "execution_count": null,
      "outputs": []
    },
    {
      "cell_type": "code",
      "metadata": {
        "id": "7u-ll7pldbDT",
        "outputId": "5248b788-9659-4e3c-e70b-6b5067c1da3c",
        "colab": {
          "base_uri": "https://localhost:8080/",
          "height": 102
        }
      },
      "source": [
        "# downloading reviews \n",
        "reviews_df = getReviews(6000, app_packages, cols)"
      ],
      "execution_count": null,
      "outputs": [
        {
          "output_type": "stream",
          "text": [
            "100%|██████████| 9/9 [01:23<00:00,  9.28s/it]\n",
            "100%|██████████| 9/9 [02:20<00:00, 15.63s/it]\n",
            "100%|██████████| 9/9 [01:55<00:00, 12.87s/it]\n",
            "100%|██████████| 9/9 [01:25<00:00,  9.54s/it]\n",
            "100%|██████████| 9/9 [01:11<00:00,  7.97s/it]\n"
          ],
          "name": "stderr"
        }
      ]
    },
    {
      "cell_type": "code",
      "metadata": {
        "id": "mA5Jh_o7qIvg",
        "outputId": "40f9236d-305e-4737-813d-e48f4d5e6b4b",
        "colab": {
          "base_uri": "https://localhost:8080/",
          "height": 34
        }
      },
      "source": [
        "reviews_df.shape"
      ],
      "execution_count": null,
      "outputs": [
        {
          "output_type": "execute_result",
          "data": {
            "text/plain": [
              "(238975, 4)"
            ]
          },
          "metadata": {
            "tags": []
          },
          "execution_count": 133
        }
      ]
    },
    {
      "cell_type": "code",
      "metadata": {
        "id": "1pHqdBEnqaDE"
      },
      "source": [
        "def getLabel(rating):\n",
        "  if rating >= 3:\n",
        "    return 1\n",
        "  else:\n",
        "    return 0\n",
        "reviews_df['label'] = reviews_df['score'].apply(lambda score: getLabel(score))"
      ],
      "execution_count": null,
      "outputs": []
    },
    {
      "cell_type": "code",
      "metadata": {
        "id": "kz1TvrQDqulW",
        "outputId": "aa9bb269-77c4-4c1b-bdef-3178276ac971",
        "colab": {
          "base_uri": "https://localhost:8080/",
          "height": 34
        }
      },
      "source": [
        "reviews_df.columns"
      ],
      "execution_count": null,
      "outputs": [
        {
          "output_type": "execute_result",
          "data": {
            "text/plain": [
              "Index(['userName', 'content', 'score', 'appid', 'label'], dtype='object')"
            ]
          },
          "metadata": {
            "tags": []
          },
          "execution_count": 141
        }
      ]
    },
    {
      "cell_type": "code",
      "metadata": {
        "id": "3hEcaCw8HMbp"
      },
      "source": [
        "drive_path = \"drive/My Drive/DataScience_Projects/\"\n",
        "file_name = drive_path + \"reviews.csv\""
      ],
      "execution_count": 4,
      "outputs": []
    },
    {
      "cell_type": "code",
      "metadata": {
        "id": "3BbuGguso6vu"
      },
      "source": [
        "# Saving datasets to drive\n",
        "reviews_df.to_csv(file_name, index=False)"
      ],
      "execution_count": null,
      "outputs": []
    },
    {
      "cell_type": "markdown",
      "metadata": {
        "id": "Pz6xU-2RvSE0"
      },
      "source": [
        "### Handling class imbalance"
      ]
    },
    {
      "cell_type": "code",
      "metadata": {
        "id": "Rf8eSg2DzvUy"
      },
      "source": [
        "reviews_df = pd.read_csv(file_name)"
      ],
      "execution_count": 5,
      "outputs": []
    },
    {
      "cell_type": "code",
      "metadata": {
        "id": "dNnYYWnYHhWy",
        "outputId": "d5665572-5c9d-4ed2-dc6d-6749b7b7e54b",
        "colab": {
          "base_uri": "https://localhost:8080/",
          "height": 34
        }
      },
      "source": [
        "reviews_df.columns"
      ],
      "execution_count": 8,
      "outputs": [
        {
          "output_type": "execute_result",
          "data": {
            "text/plain": [
              "Index(['userName', 'content', 'score', 'appid', 'label'], dtype='object')"
            ]
          },
          "metadata": {
            "tags": []
          },
          "execution_count": 8
        }
      ]
    },
    {
      "cell_type": "code",
      "metadata": {
        "id": "CfggKdJcHSVv",
        "outputId": "4a1c7f1a-6063-4bf9-d8dc-fe0f15fba075",
        "colab": {
          "base_uri": "https://localhost:8080/",
          "height": 1000
        }
      },
      "source": [
        "reviews_df[['content', 'score']].head(50)"
      ],
      "execution_count": 9,
      "outputs": [
        {
          "output_type": "execute_result",
          "data": {
            "text/html": [
              "<div>\n",
              "<style scoped>\n",
              "    .dataframe tbody tr th:only-of-type {\n",
              "        vertical-align: middle;\n",
              "    }\n",
              "\n",
              "    .dataframe tbody tr th {\n",
              "        vertical-align: top;\n",
              "    }\n",
              "\n",
              "    .dataframe thead th {\n",
              "        text-align: right;\n",
              "    }\n",
              "</style>\n",
              "<table border=\"1\" class=\"dataframe\">\n",
              "  <thead>\n",
              "    <tr style=\"text-align: right;\">\n",
              "      <th></th>\n",
              "      <th>content</th>\n",
              "      <th>score</th>\n",
              "    </tr>\n",
              "  </thead>\n",
              "  <tbody>\n",
              "    <tr>\n",
              "      <th>0</th>\n",
              "      <td>It is high time flipkart stop paying celebriti...</td>\n",
              "      <td>1</td>\n",
              "    </tr>\n",
              "    <tr>\n",
              "      <th>1</th>\n",
              "      <td>Worst thing is scrolling scrolling scrolling.....</td>\n",
              "      <td>1</td>\n",
              "    </tr>\n",
              "    <tr>\n",
              "      <th>2</th>\n",
              "      <td>For the past 3-4 years I face this issue every...</td>\n",
              "      <td>1</td>\n",
              "    </tr>\n",
              "    <tr>\n",
              "      <th>3</th>\n",
              "      <td>Device : One Plus 7. There is something wrong ...</td>\n",
              "      <td>1</td>\n",
              "    </tr>\n",
              "    <tr>\n",
              "      <th>4</th>\n",
              "      <td>Suggestions 1) There should be one touch butto...</td>\n",
              "      <td>1</td>\n",
              "    </tr>\n",
              "    <tr>\n",
              "      <th>5</th>\n",
              "      <td>🙏🙏🙏 Nice, All item's are good quality.Everythi...</td>\n",
              "      <td>1</td>\n",
              "    </tr>\n",
              "    <tr>\n",
              "      <th>6</th>\n",
              "      <td>Flipkart, I'm using this since it launched. Bu...</td>\n",
              "      <td>1</td>\n",
              "    </tr>\n",
              "    <tr>\n",
              "      <th>7</th>\n",
              "      <td>Cant login to my account with OTP, OTP is auto...</td>\n",
              "      <td>1</td>\n",
              "    </tr>\n",
              "    <tr>\n",
              "      <th>8</th>\n",
              "      <td>FLIPKART coin system is really bad I just trie...</td>\n",
              "      <td>1</td>\n",
              "    </tr>\n",
              "    <tr>\n",
              "      <th>9</th>\n",
              "      <td>0 stars. I have been playing games on flipkart...</td>\n",
              "      <td>1</td>\n",
              "    </tr>\n",
              "    <tr>\n",
              "      <th>10</th>\n",
              "      <td>The navigation to the home page in between pro...</td>\n",
              "      <td>1</td>\n",
              "    </tr>\n",
              "    <tr>\n",
              "      <th>11</th>\n",
              "      <td>I had installed Flipkart before a month and wa...</td>\n",
              "      <td>1</td>\n",
              "    </tr>\n",
              "    <tr>\n",
              "      <th>12</th>\n",
              "      <td>It is really bad when I have played the after ...</td>\n",
              "      <td>1</td>\n",
              "    </tr>\n",
              "    <tr>\n",
              "      <th>13</th>\n",
              "      <td>This app used to be great for shopping but aft...</td>\n",
              "      <td>1</td>\n",
              "    </tr>\n",
              "    <tr>\n",
              "      <th>14</th>\n",
              "      <td>While changing the mobile number Flipkart send...</td>\n",
              "      <td>1</td>\n",
              "    </tr>\n",
              "    <tr>\n",
              "      <th>15</th>\n",
              "      <td>Very very bad apps.. I dont understand if they...</td>\n",
              "      <td>1</td>\n",
              "    </tr>\n",
              "    <tr>\n",
              "      <th>16</th>\n",
              "      <td>This is the worst app.. if there is negative r...</td>\n",
              "      <td>1</td>\n",
              "    </tr>\n",
              "    <tr>\n",
              "      <th>17</th>\n",
              "      <td>I really like the Flipkart but this app is con...</td>\n",
              "      <td>1</td>\n",
              "    </tr>\n",
              "    <tr>\n",
              "      <th>18</th>\n",
              "      <td>I can't believe how unbelievably poor the serv...</td>\n",
              "      <td>1</td>\n",
              "    </tr>\n",
              "    <tr>\n",
              "      <th>19</th>\n",
              "      <td>I'm getting an error while playing games as we...</td>\n",
              "      <td>1</td>\n",
              "    </tr>\n",
              "    <tr>\n",
              "      <th>20</th>\n",
              "      <td>Here is a big problem smart Store is not worki...</td>\n",
              "      <td>1</td>\n",
              "    </tr>\n",
              "    <tr>\n",
              "      <th>21</th>\n",
              "      <td>Initially I had rated it 5 star but now just 1...</td>\n",
              "      <td>1</td>\n",
              "    </tr>\n",
              "    <tr>\n",
              "      <th>22</th>\n",
              "      <td>Frist I like this app but now there is a login...</td>\n",
              "      <td>1</td>\n",
              "    </tr>\n",
              "    <tr>\n",
              "      <th>23</th>\n",
              "      <td>One star rating is also too much to this blood...</td>\n",
              "      <td>1</td>\n",
              "    </tr>\n",
              "    <tr>\n",
              "      <th>24</th>\n",
              "      <td>I was trying to order poco m2 from my account,...</td>\n",
              "      <td>1</td>\n",
              "    </tr>\n",
              "    <tr>\n",
              "      <th>25</th>\n",
              "      <td>My review purely based on about last few updat...</td>\n",
              "      <td>1</td>\n",
              "    </tr>\n",
              "    <tr>\n",
              "      <th>26</th>\n",
              "      <td>Good but in gamezone section some game like fr...</td>\n",
              "      <td>1</td>\n",
              "    </tr>\n",
              "    <tr>\n",
              "      <th>27</th>\n",
              "      <td>It's a very bad app cause it will not give the...</td>\n",
              "      <td>1</td>\n",
              "    </tr>\n",
              "    <tr>\n",
              "      <th>28</th>\n",
              "      <td>Very bad gaming performance. Banning any accou...</td>\n",
              "      <td>1</td>\n",
              "    </tr>\n",
              "    <tr>\n",
              "      <th>29</th>\n",
              "      <td>This app really sucks now.. after the new upda...</td>\n",
              "      <td>1</td>\n",
              "    </tr>\n",
              "    <tr>\n",
              "      <th>30</th>\n",
              "      <td>App is loading but do not show anything. It ap...</td>\n",
              "      <td>1</td>\n",
              "    </tr>\n",
              "    <tr>\n",
              "      <th>31</th>\n",
              "      <td>I have problems on my wishlist I can't access ...</td>\n",
              "      <td>1</td>\n",
              "    </tr>\n",
              "    <tr>\n",
              "      <th>32</th>\n",
              "      <td>Worst AI I've ever experienced. I got a new si...</td>\n",
              "      <td>1</td>\n",
              "    </tr>\n",
              "    <tr>\n",
              "      <th>33</th>\n",
              "      <td>It is very bad 👎 . One of my account has no ca...</td>\n",
              "      <td>1</td>\n",
              "    </tr>\n",
              "    <tr>\n",
              "      <th>34</th>\n",
              "      <td>Feedback to app developer:Need to change UI. A...</td>\n",
              "      <td>1</td>\n",
              "    </tr>\n",
              "    <tr>\n",
              "      <th>35</th>\n",
              "      <td>app is getting closed when I click on cart ico...</td>\n",
              "      <td>1</td>\n",
              "    </tr>\n",
              "    <tr>\n",
              "      <th>36</th>\n",
              "      <td>Not able to buy poco m2 from flipcart. Every t...</td>\n",
              "      <td>1</td>\n",
              "    </tr>\n",
              "    <tr>\n",
              "      <th>37</th>\n",
              "      <td>Don't download this app. In this app it was ga...</td>\n",
              "      <td>1</td>\n",
              "    </tr>\n",
              "    <tr>\n",
              "      <th>38</th>\n",
              "      <td>Good App But, I'm Facing Problem From 1 Month,...</td>\n",
              "      <td>1</td>\n",
              "    </tr>\n",
              "    <tr>\n",
              "      <th>39</th>\n",
              "      <td>Very bad, dev team self update ratings from 1 ...</td>\n",
              "      <td>1</td>\n",
              "    </tr>\n",
              "    <tr>\n",
              "      <th>40</th>\n",
              "      <td>Very bad experience with this app. I am trying...</td>\n",
              "      <td>1</td>\n",
              "    </tr>\n",
              "    <tr>\n",
              "      <th>41</th>\n",
              "      <td>Plz beware.. flipkart has come up with an inno...</td>\n",
              "      <td>1</td>\n",
              "    </tr>\n",
              "    <tr>\n",
              "      <th>42</th>\n",
              "      <td>On 30 September 2020 I try to recharge to my m...</td>\n",
              "      <td>1</td>\n",
              "    </tr>\n",
              "    <tr>\n",
              "      <th>43</th>\n",
              "      <td>Whenever I try to open the app it doesn't load...</td>\n",
              "      <td>1</td>\n",
              "    </tr>\n",
              "    <tr>\n",
              "      <th>44</th>\n",
              "      <td>I'm unable to opt cash on delivery option. In ...</td>\n",
              "      <td>1</td>\n",
              "    </tr>\n",
              "    <tr>\n",
              "      <th>45</th>\n",
              "      <td>Bad experience .. this time i show many bug on...</td>\n",
              "      <td>1</td>\n",
              "    </tr>\n",
              "    <tr>\n",
              "      <th>46</th>\n",
              "      <td>Such a disguising app... Not offering option o...</td>\n",
              "      <td>1</td>\n",
              "    </tr>\n",
              "    <tr>\n",
              "      <th>47</th>\n",
              "      <td>Not from beginning but I'm using Flipkart from...</td>\n",
              "      <td>1</td>\n",
              "    </tr>\n",
              "    <tr>\n",
              "      <th>48</th>\n",
              "      <td>Very bad and wrost app . When I am playing cli...</td>\n",
              "      <td>1</td>\n",
              "    </tr>\n",
              "    <tr>\n",
              "      <th>49</th>\n",
              "      <td>Used to love it but recently lost interest due...</td>\n",
              "      <td>1</td>\n",
              "    </tr>\n",
              "  </tbody>\n",
              "</table>\n",
              "</div>"
            ],
            "text/plain": [
              "                                              content  score\n",
              "0   It is high time flipkart stop paying celebriti...      1\n",
              "1   Worst thing is scrolling scrolling scrolling.....      1\n",
              "2   For the past 3-4 years I face this issue every...      1\n",
              "3   Device : One Plus 7. There is something wrong ...      1\n",
              "4   Suggestions 1) There should be one touch butto...      1\n",
              "5   🙏🙏🙏 Nice, All item's are good quality.Everythi...      1\n",
              "6   Flipkart, I'm using this since it launched. Bu...      1\n",
              "7   Cant login to my account with OTP, OTP is auto...      1\n",
              "8   FLIPKART coin system is really bad I just trie...      1\n",
              "9   0 stars. I have been playing games on flipkart...      1\n",
              "10  The navigation to the home page in between pro...      1\n",
              "11  I had installed Flipkart before a month and wa...      1\n",
              "12  It is really bad when I have played the after ...      1\n",
              "13  This app used to be great for shopping but aft...      1\n",
              "14  While changing the mobile number Flipkart send...      1\n",
              "15  Very very bad apps.. I dont understand if they...      1\n",
              "16  This is the worst app.. if there is negative r...      1\n",
              "17  I really like the Flipkart but this app is con...      1\n",
              "18  I can't believe how unbelievably poor the serv...      1\n",
              "19  I'm getting an error while playing games as we...      1\n",
              "20  Here is a big problem smart Store is not worki...      1\n",
              "21  Initially I had rated it 5 star but now just 1...      1\n",
              "22  Frist I like this app but now there is a login...      1\n",
              "23  One star rating is also too much to this blood...      1\n",
              "24  I was trying to order poco m2 from my account,...      1\n",
              "25  My review purely based on about last few updat...      1\n",
              "26  Good but in gamezone section some game like fr...      1\n",
              "27  It's a very bad app cause it will not give the...      1\n",
              "28  Very bad gaming performance. Banning any accou...      1\n",
              "29  This app really sucks now.. after the new upda...      1\n",
              "30  App is loading but do not show anything. It ap...      1\n",
              "31  I have problems on my wishlist I can't access ...      1\n",
              "32  Worst AI I've ever experienced. I got a new si...      1\n",
              "33  It is very bad 👎 . One of my account has no ca...      1\n",
              "34  Feedback to app developer:Need to change UI. A...      1\n",
              "35  app is getting closed when I click on cart ico...      1\n",
              "36  Not able to buy poco m2 from flipcart. Every t...      1\n",
              "37  Don't download this app. In this app it was ga...      1\n",
              "38  Good App But, I'm Facing Problem From 1 Month,...      1\n",
              "39  Very bad, dev team self update ratings from 1 ...      1\n",
              "40  Very bad experience with this app. I am trying...      1\n",
              "41  Plz beware.. flipkart has come up with an inno...      1\n",
              "42  On 30 September 2020 I try to recharge to my m...      1\n",
              "43  Whenever I try to open the app it doesn't load...      1\n",
              "44  I'm unable to opt cash on delivery option. In ...      1\n",
              "45  Bad experience .. this time i show many bug on...      1\n",
              "46  Such a disguising app... Not offering option o...      1\n",
              "47  Not from beginning but I'm using Flipkart from...      1\n",
              "48  Very bad and wrost app . When I am playing cli...      1\n",
              "49  Used to love it but recently lost interest due...      1"
            ]
          },
          "metadata": {
            "tags": []
          },
          "execution_count": 9
        }
      ]
    },
    {
      "cell_type": "code",
      "metadata": {
        "id": "yT7NA1tBrZS1",
        "outputId": "96c4eca0-28a1-4077-b3de-036657d576ff",
        "colab": {
          "base_uri": "https://localhost:8080/",
          "height": 68
        }
      },
      "source": [
        "reviews_df['label'].value_counts()"
      ],
      "execution_count": null,
      "outputs": [
        {
          "output_type": "execute_result",
          "data": {
            "text/plain": [
              "1    144000\n",
              "0     94975\n",
              "Name: label, dtype: int64"
            ]
          },
          "metadata": {
            "tags": []
          },
          "execution_count": 7
        }
      ]
    },
    {
      "cell_type": "code",
      "metadata": {
        "id": "2jXel6VBrrYc",
        "outputId": "b67adfd2-07d2-45d9-c4f0-556b1617c956",
        "colab": {
          "base_uri": "https://localhost:8080/",
          "height": 34
        }
      },
      "source": [
        "# Balancing classes by undersampling\n",
        "min_sample_size = reviews_df['label'].value_counts().min()\n",
        "\n",
        "class1_df = reviews_df[reviews_df['label'] == 1].head(min_sample_size)\n",
        "class2_df = reviews_df[reviews_df['label'] == 0].head(min_sample_size)\n",
        "\n",
        "class1_df.shape, class2_df.shape"
      ],
      "execution_count": null,
      "outputs": [
        {
          "output_type": "execute_result",
          "data": {
            "text/plain": [
              "((94975, 5), (94975, 5))"
            ]
          },
          "metadata": {
            "tags": []
          },
          "execution_count": 8
        }
      ]
    },
    {
      "cell_type": "markdown",
      "metadata": {
        "id": "Y1IrcmcvypDN"
      },
      "source": [
        "### Preparing training, validation & test set"
      ]
    },
    {
      "cell_type": "code",
      "metadata": {
        "id": "mlQPpnOVvH5k",
        "outputId": "e0f0cce6-fd4f-4dd7-82c7-8981bffb2255",
        "colab": {
          "base_uri": "https://localhost:8080/",
          "height": 34
        }
      },
      "source": [
        "def getTrainingDatasets(df, train_size):\n",
        "  train_df, test_df = train_test_split(df,train_size=0.7)\n",
        "  val_df, test_df = train_test_split(test_df,train_size=0.5)\n",
        "  return train_df, val_df, test_df\n",
        "\n",
        "train1_df, val1_df, test1_df = getTrainingDatasets(class1_df, 0.7)\n",
        "train2_df, val2_df, test2_df = getTrainingDatasets(class2_df, 0.7)\n",
        "\n",
        "train1_df.shape, val1_df.shape, test1_df.shape, train2_df.shape, val2_df.shape, test2_df.shape, "
      ],
      "execution_count": null,
      "outputs": [
        {
          "output_type": "execute_result",
          "data": {
            "text/plain": [
              "((66482, 5), (14246, 5), (14247, 5), (66482, 5), (14246, 5), (14247, 5))"
            ]
          },
          "metadata": {
            "tags": []
          },
          "execution_count": 9
        }
      ]
    },
    {
      "cell_type": "code",
      "metadata": {
        "id": "gWISkH0lwkz6",
        "outputId": "29411b52-323d-439c-ad89-fc8e3edbc35c",
        "colab": {
          "base_uri": "https://localhost:8080/",
          "height": 34
        }
      },
      "source": [
        "train_df = pd.concat([train1_df, train2_df])\n",
        "val_df = pd.concat([val1_df, val2_df])\n",
        "test_df = pd.concat([test1_df, test2_df])\n",
        "\n",
        "train_df.shape, val_df.shape, test_df.shape, "
      ],
      "execution_count": null,
      "outputs": [
        {
          "output_type": "execute_result",
          "data": {
            "text/plain": [
              "((132964, 5), (28492, 5), (28494, 5))"
            ]
          },
          "metadata": {
            "tags": []
          },
          "execution_count": 10
        }
      ]
    },
    {
      "cell_type": "code",
      "metadata": {
        "id": "9z6oxdACrYZz"
      },
      "source": [
        "train_df.to_csv(drive_path+\"train.csv\", index=False)\n",
        "val_df.to_csv(drive_path+\"validation.csv\", index=False)\n",
        "test_df.to_csv(drive_path+\"test.csv\", index=False)"
      ],
      "execution_count": null,
      "outputs": []
    }
  ]
}